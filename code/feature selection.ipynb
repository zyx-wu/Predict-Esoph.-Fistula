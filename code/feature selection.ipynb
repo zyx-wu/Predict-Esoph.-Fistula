{
 "cells": [
  {
   "cell_type": "code",
   "execution_count": null,
   "id": "a90f03c4",
   "metadata": {},
   "outputs": [],
   "source": [
    "import pandas as pd\n",
    "from sklearn.preprocessing import StandardScaler\n",
    "from sklearn.linear_model import LassoCV\n",
    "import matplotlib.pyplot as plt\n",
    "import matplotlib.ticker as ticker\n",
    "from sklearn.linear_model import Lasso\n",
    "from sklearn.feature_selection import RFE\n",
    "from scipy.stats import shapiro, ranksums, ttest_ind, levene"
   ]
  },
  {
   "cell_type": "code",
   "execution_count": null,
   "id": "d979e983",
   "metadata": {},
   "outputs": [],
   "source": [
    "data_dir = './P10/'\n",
    "out_dir = './P10/plan2/'"
   ]
  },
  {
   "cell_type": "code",
   "execution_count": null,
   "id": "89931241",
   "metadata": {},
   "outputs": [],
   "source": [
    "cl = pd.read_csv(data_dir+'train_cl.csv')"
   ]
  },
  {
   "cell_type": "code",
   "execution_count": null,
   "id": "1b2f7f3e",
   "metadata": {},
   "outputs": [],
   "source": [
    "import numpy as np\n",
    "from collections import Counter\n",
    "from scipy.stats import chi2_contingency\n",
    "from scipy.stats import fisher_exact\n",
    "from scipy.stats import pearsonr, ttest_ind, levene\n"
   ]
  },
  {
   "cell_type": "code",
   "execution_count": null,
   "id": "43b934c1",
   "metadata": {},
   "outputs": [],
   "source": [
    "cl_data0 = cl[cl['label'] == 0]\n",
    "cl_data1 = cl[cl['label'] == 1]"
   ]
  },
  {
   "cell_type": "code",
   "execution_count": null,
   "id": "1d0b4316",
   "metadata": {},
   "outputs": [],
   "source": [
    "from statsmodels.stats.multitest import multipletests\n",
    "data0 = cl_data0\n",
    "data1 = cl_data1\n",
    "cl_ST = []\n",
    "p_values = [] \n",
    "col_names = []  \n",
    "for colName in cl.columns[2:]: \n",
    "    current_p = None  \n",
    "    if colName == 'Sex'or colName == 'HBP'or colName == 'DM'or colName == 'smoke'or colName == 'drink'or colName == 'Re': \n",
    "        data0_col = Counter(data0[colName])\n",
    "        data1_col = Counter(data1[colName])\n",
    "        \n",
    "        a = data0_col[0]\n",
    "        b = data1_col[0]\n",
    "        c = data0_col[1]\n",
    "        d = data1_col[1]\n",
    "        cross_table = np.array([[a,b],\n",
    "                                [c,d]])\n",
    "        n = a + b + c + d\n",
    "        Ta = ((a + b)*(a + c))/n\n",
    "        Tb = ((a + b)*(b + d))/n\n",
    "        Tc = ((a + c)*(c + d))/n\n",
    "        Td = ((c + d)*(b + d))/n\n",
    "        T = min(Ta, Tb, Tc, Td)\n",
    "        if((T >= 5) & (n >= 40)):\n",
    "            kf = chi2_contingency(cross_table)\n",
    "        elif((T < 5) & (T >= 1) & (n >= 40)):\n",
    "            kf = chi2_contingency(cross_table,correction=True)\n",
    "        else:\n",
    "            kf = fisher_exact(cross_table, alternative='greater')\n",
    "#         re.loc[0,colName] = \"%.10f\"%kf[1]\n",
    "        if kf[1] < 0.05:\n",
    "            cl_ST.append(colName)\n",
    "        current_p = kf[1]\n",
    "        print(colName,\":\\n\\tP-value = %.4f\"%kf[1])\n",
    "    else:\n",
    "        if shapiro(data0[colName])[1] > 0.05 and shapiro(data1[colName])[1] > 0.05:\n",
    "            if levene(data0[colName], data1[colName])[1] > 0.05:\n",
    "                P = ttest_ind(data0[colName],data1[colName])[1]\n",
    "                current_p = P\n",
    "                print(colName,':\\n\\tP-value =  %.4f'%P)\n",
    "                if P < 0.05:\n",
    "                    cl_ST.append(colName)       \n",
    "                             \n",
    "            else:\n",
    "                P = ttest_ind(data0[colName],data1[colName],equal_var = False)[1]\n",
    "                current_p = P\n",
    "                print(colName,':\\n\\tP-value =  %.4f'%P)\n",
    "                if P < 0.05:\n",
    "                    cl_ST.append(colName)    \n",
    "        else:\n",
    "            P = ranksums(data0[colName], data1[colName])[1]\n",
    "            current_p = P\n",
    "            print(colName,':\\n\\tP-value =  %.4f'%P)\n",
    "            if P < 0.05:\n",
    "                cl_ST.append(colName)  \n",
    "    p_values.append(current_p)\n",
    "    col_names.append(colName)\n",
    "    \n",
    "rejections, pvals_corrected, _, _ = multipletests(p_values, alpha=0.05, method='fdr_bh')\n",
    "\n",
    "for colName, reject, pval in zip(col_names, rejections, pvals_corrected):\n",
    "    print(colName, \": Adjusted P-value = %.4f\" % pval)\n",
    "    if reject:\n",
    "        cl_ST.append(colName)\n"
   ]
  },
  {
   "cell_type": "code",
   "execution_count": null,
   "id": "dc87ef01",
   "metadata": {},
   "outputs": [],
   "source": [
    "if 'AD' not in cl_ST:cl_ST = ['AD']+cl_ST\n",
    "if 'label' not in cl_ST:cl_ST = ['label']+cl_ST"
   ]
  },
  {
   "cell_type": "code",
   "execution_count": null,
   "id": "69d05796",
   "metadata": {},
   "outputs": [],
   "source": [
    "cl = cl[cl_ST]"
   ]
  },
  {
   "cell_type": "code",
   "execution_count": null,
   "id": "99be0b93",
   "metadata": {},
   "outputs": [],
   "source": [
    "ra = pd.read_csv(data_dir+'train_ra.csv')"
   ]
  },
  {
   "cell_type": "code",
   "execution_count": null,
   "id": "a2d66a5a",
   "metadata": {},
   "outputs": [],
   "source": [
    "ra_data0 = ra[ra['label'] == 0]\n",
    "ra_data1 = ra[ra['label'] == 1]"
   ]
  },
  {
   "cell_type": "code",
   "execution_count": null,
   "id": "ec6666af",
   "metadata": {},
   "outputs": [],
   "source": [
    "data0 = ra_data0\n",
    "data1 = ra_data1\n",
    "ra_ST = []\n",
    "p_values = []  \n",
    "for colName in ra.columns[2:]: \n",
    "    p_value = None\n",
    "    if shapiro(data0[colName])[1] > 0.05 and shapiro(data1[colName])[1] > 0.05:\n",
    "        if levene(data0[colName], data1[colName])[1] > 0.05:\n",
    "            p_value = ttest_ind(data0[colName], data1[colName])[1]                    \n",
    "        else:\n",
    "            p_value = ttest_ind(data0[colName], data1[colName], equal_var=False)[1]\n",
    "    else:\n",
    "        p_value = ranksums(data0[colName], data1[colName])[1]\n",
    "\n",
    "    p_values.append(p_value)\n",
    "rejections, pvals_corrected, _, _ = multipletests(p_values, alpha=0.05, method='fdr_bh')\n",
    "\n",
    "for colName, reject in zip(ra.columns[2:], rejections):\n",
    "    if reject:\n",
    "        ra_ST.append(colName)\n"
   ]
  },
  {
   "cell_type": "code",
   "execution_count": null,
   "id": "47287880",
   "metadata": {},
   "outputs": [],
   "source": [
    "if 'AD' not in ra_ST:ra_ST = ['AD']+ra_ST\n",
    "if 'label' not in ra_ST:ra_ST = ['label']+ra_ST"
   ]
  },
  {
   "cell_type": "code",
   "execution_count": null,
   "id": "cacd7d8e",
   "metadata": {},
   "outputs": [],
   "source": [
    "ra = ra[ra_ST]"
   ]
  },
  {
   "cell_type": "code",
   "execution_count": null,
   "id": "002ee0c7",
   "metadata": {},
   "outputs": [],
   "source": [
    "me = pd.read_csv(data_dir+'train_me.csv')"
   ]
  },
  {
   "cell_type": "code",
   "execution_count": null,
   "id": "1c51b007",
   "metadata": {},
   "outputs": [],
   "source": [
    "me_data0 = me[me['label'] == 0]\n",
    "me_data1 = me[me['label'] == 1]"
   ]
  },
  {
   "cell_type": "code",
   "execution_count": null,
   "id": "aa68756b",
   "metadata": {},
   "outputs": [],
   "source": [
    "data0 = me_data0\n",
    "data1 = me_data1\n",
    "me_ST = []\n",
    "p_values = []\n",
    "\n",
    "for colName in me.columns[2:]: \n",
    "    p_value = None\n",
    "    if shapiro(data0[colName])[1] > 0.05 and shapiro(data1[colName])[1] > 0.05:\n",
    "        if levene(data0[colName], data1[colName])[1] > 0.05:\n",
    "            p_value = ttest_ind(data0[colName], data1[colName])[1]                    \n",
    "        else:\n",
    "            p_value = ttest_ind(data0[colName], data1[colName], equal_var=False)[1]\n",
    "    else:\n",
    "        p_value = ranksums(data0[colName], data1[colName])[1]\n",
    "\n",
    "    p_values.append(p_value)\n",
    "\n",
    "rejections, pvals_corrected, _, _ = multipletests(p_values, alpha=0.05, method='fdr_bh')\n",
    "\n",
    "for colName, reject in zip(me.columns[2:], rejections):\n",
    "    if reject:\n",
    "        me_ST.append(colName)\n"
   ]
  },
  {
   "cell_type": "code",
   "execution_count": null,
   "id": "188d82c7",
   "metadata": {},
   "outputs": [],
   "source": [
    "if 'AD' not in me_ST:me_ST = ['AD']+me_ST\n",
    "if 'label' not in me_ST:me_ST = ['label']+me_ST"
   ]
  },
  {
   "cell_type": "code",
   "execution_count": null,
   "id": "a760a770",
   "metadata": {},
   "outputs": [],
   "source": [
    "me = me[me_ST]"
   ]
  },
  {
   "cell_type": "code",
   "execution_count": null,
   "id": "11884d51",
   "metadata": {},
   "outputs": [],
   "source": [
    "scaler = StandardScaler()\n",
    "cols_to_scale = cl.columns[2:]\n",
    "scaled_data = scaler.fit_transform(cl[cols_to_scale])\n",
    "cl_zscore = pd.concat([cl.iloc[:, :2], pd.DataFrame(scaled_data, columns=cols_to_scale)], axis=1)"
   ]
  },
  {
   "cell_type": "code",
   "execution_count": null,
   "id": "89f3dfcb",
   "metadata": {},
   "outputs": [],
   "source": [
    "X = cl_zscore[cl_zscore.columns[2:]]\n",
    "y = cl_zscore['label']\n",
    "feature_names =  X.columns"
   ]
  },
  {
   "cell_type": "code",
   "execution_count": null,
   "id": "6a636905",
   "metadata": {},
   "outputs": [],
   "source": [
    "print(X.shape)"
   ]
  },
  {
   "cell_type": "code",
   "execution_count": null,
   "id": "8e7b3adb",
   "metadata": {},
   "outputs": [],
   "source": [
    "# lasso for further feature selection\n",
    "alphas = np.logspace(-18,1,50)\n",
    "model_lassoCV_cl = LassoCV(alphas = alphas, cv = 10, max_iter = 10000000).fit(X,y)\n",
    "coefs_cl = model_lassoCV_cl.path(X,y,alphas = alphas, max_iter = 10000000)[1].T\n",
    "\n",
    "MSEs_cl = model_lassoCV_cl.mse_path_\n",
    "MSEs_mean_cl = np.apply_along_axis(np.mean,1,MSEs_cl)\n",
    "MSEs_std_cl = np.apply_along_axis(np.std,1,MSEs_cl)"
   ]
  },
  {
   "cell_type": "code",
   "execution_count": null,
   "id": "a92e5517",
   "metadata": {},
   "outputs": [],
   "source": [
    "print(model_lassoCV_cl.alpha_)\n",
    "coef = pd.Series(model_lassoCV_cl.coef_,index = X.columns)\n",
    "print('Lasso picked ' + str(sum(coef != 0))+ ' variables and eliminated the other ' + str(sum(coef == 0)))"
   ]
  },
  {
   "cell_type": "code",
   "execution_count": null,
   "id": "a46a8831",
   "metadata": {},
   "outputs": [],
   "source": [
    "cl_col_lasso = coef[coef != 0].index\n",
    "cl_col_lasso = cl_col_lasso.tolist()\n",
    "\n",
    "if 'AD' not in cl_col_lasso:cl_col_lasso = ['AD']+cl_col_lasso\n",
    "if 'label' not in cl_col_lasso:cl_col_lasso = ['label']+cl_col_lasso\n",
    "\n",
    "cl_lasso = cl[cl_col_lasso]\n",
    "print(cl_lasso.shape)    "
   ]
  },
  {
   "cell_type": "code",
   "execution_count": null,
   "id": "e4ef1468",
   "metadata": {},
   "outputs": [],
   "source": [
    "if len(cl_col_lasso)>8:\n",
    "    lasso = Lasso(alpha=model_lassoCV_cl.alpha_, max_iter=10000000)\n",
    "    selector = RFE(lasso, n_features_to_select=6, step=1)\n",
    "    selector = selector.fit(X, y)\n",
    "\n",
    "    selected_features = feature_names[selector.support_]\n",
    "    print(\"Selected features:\", selected_features)\n",
    "    selected_features=selected_features.tolist()\n",
    "    if 'AD' not in selected_features:selected_features = ['AD']+selected_features\n",
    "    if 'label' not in selected_features:selected_features = ['label']+selected_features\n",
    "    cl_RFE = cl_lasso[selected_features]\n",
    "else:\n",
    "    cl_RFE = cl_lasso"
   ]
  },
  {
   "cell_type": "code",
   "execution_count": null,
   "id": "8bcde50f",
   "metadata": {},
   "outputs": [],
   "source": [
    "scaler = StandardScaler()\n",
    "cols_to_scale = ra.columns[2:]\n",
    "scaled_data = scaler.fit_transform(ra[cols_to_scale])\n",
    "ra_zscore = pd.concat([ra.iloc[:, :2], pd.DataFrame(scaled_data, columns=cols_to_scale)], axis=1)"
   ]
  },
  {
   "cell_type": "code",
   "execution_count": null,
   "id": "26d93e9e",
   "metadata": {},
   "outputs": [],
   "source": [
    "X = ra_zscore[ra_zscore.columns[2:]]\n",
    "y = ra_zscore['label']\n",
    "feature_names =  X.columns\n",
    "print(X.shape)\n",
    "\n",
    "# lasso for further feature selection\n",
    "alphas = np.logspace(-2,1,50)\n",
    "model_lassoCV_ra = LassoCV(alphas = alphas, cv = 10, max_iter = 10000000).fit(X,y)\n",
    "coefs_ra = model_lassoCV_ra.path(X,y,alphas = alphas, max_iter = 10000000)[1].T\n",
    "\n",
    "MSEs_ra = model_lassoCV_ra.mse_path_\n",
    "MSEs_mean_ra = np.apply_along_axis(np.mean,1,MSEs_ra)\n",
    "MSEs_std_ra = np.apply_along_axis(np.std,1,MSEs_ra)\n"
   ]
  },
  {
   "cell_type": "code",
   "execution_count": null,
   "id": "b5366776",
   "metadata": {},
   "outputs": [],
   "source": [
    "print(model_lassoCV_ra.alpha_)\n",
    "coef = pd.Series(model_lassoCV_ra.coef_,index = X.columns)\n",
    "print('Lasso picked ' + str(sum(coef != 0))+ ' variables and eliminated the other ' + str(sum(coef == 0)))\n",
    "\n",
    "ra_col_lasso = coef[coef != 0].index\n",
    "ra_col_lasso = ra_col_lasso.tolist()\n",
    "\n",
    "if 'AD' not in ra_col_lasso:ra_col_lasso = ['AD']+ra_col_lasso\n",
    "if 'label' not in ra_col_lasso:ra_col_lasso = ['label']+ra_col_lasso\n",
    "\n",
    "ra_lasso = ra[ra_col_lasso]\n",
    "print(ra_lasso.shape)    "
   ]
  },
  {
   "cell_type": "code",
   "execution_count": null,
   "id": "5d518f04",
   "metadata": {},
   "outputs": [],
   "source": [
    "if len(ra_col_lasso)>8:\n",
    "    lasso = Lasso(alpha=model_lassoCV_ra.alpha_, max_iter=100000)\n",
    "    selector = RFE(lasso, n_features_to_select=6, step=1,)\n",
    "    selector = selector.fit(X, y)\n",
    "\n",
    "    selected_features = feature_names[selector.support_]\n",
    "    print(\"Selected features:\", selected_features)\n",
    "    selected_features = selected_features.tolist()\n",
    "    if 'AD' not in selected_features:selected_features = ['AD']+selected_features\n",
    "    if 'label' not in selected_features:selected_features = ['label']+selected_features\n",
    "    ra_RFE = ra_lasso[selected_features]\n",
    "else:\n",
    "    ra_RFE = ra_lasso"
   ]
  },
  {
   "cell_type": "code",
   "execution_count": null,
   "id": "7e74b16e",
   "metadata": {},
   "outputs": [],
   "source": [
    "scaler = StandardScaler()\n",
    "\n",
    "cols_to_scale = me.columns[2:]\n",
    "scaled_data = scaler.fit_transform(me[cols_to_scale])\n",
    "me_zscore = pd.concat([me.iloc[:, :2], pd.DataFrame(scaled_data, columns=cols_to_scale)], axis=1)"
   ]
  },
  {
   "cell_type": "code",
   "execution_count": null,
   "id": "b59685c7",
   "metadata": {},
   "outputs": [],
   "source": [
    "X = me_zscore[me_zscore.columns[2:]]\n",
    "y = me_zscore['label']\n",
    "feature_names =  X.columns\n",
    "print(X.shape)\n",
    "\n",
    "# lasso for further feature selection\n",
    "alphas = np.logspace(-2,1,50)\n",
    "model_lassoCV_me = LassoCV(alphas = alphas, cv = 10, max_iter = 10000000).fit(X,y)\n",
    "coefs_me = model_lassoCV_me.path(X,y,alphas = alphas, max_iter = 10000000)[1].T\n",
    "\n",
    "MSEs_me = model_lassoCV_me.mse_path_\n",
    "MSEs_mean_me = np.apply_along_axis(np.mean,1,MSEs_me)\n",
    "MSEs_std_me = np.apply_along_axis(np.std,1,MSEs_me)\n"
   ]
  },
  {
   "cell_type": "code",
   "execution_count": null,
   "id": "88b955a8",
   "metadata": {},
   "outputs": [],
   "source": [
    "print(model_lassoCV_me.alpha_)\n",
    "coef = pd.Series(model_lassoCV_me.coef_,index = X.columns)\n",
    "print('Lasso picked ' + str(sum(coef != 0))+ ' variables and eliminated the other ' + str(sum(coef == 0)))\n",
    "\n",
    "me_col_lasso = coef[coef != 0].index\n",
    "me_col_lasso = me_col_lasso.tolist()\n",
    "\n",
    "if 'AD' not in me_col_lasso:me_col_lasso = ['AD']+me_col_lasso\n",
    "if 'label' not in me_col_lasso:me_col_lasso = ['label']+me_col_lasso\n",
    "\n",
    "me_lasso = me[me_col_lasso]\n",
    "print(me_lasso.shape)   \n"
   ]
  },
  {
   "cell_type": "code",
   "execution_count": null,
   "id": "9b8caa92",
   "metadata": {},
   "outputs": [],
   "source": [
    "# me_lasso.to_csv(out_dir+'train_me_withoutRFE.csv', index=False)"
   ]
  },
  {
   "cell_type": "code",
   "execution_count": null,
   "id": "a4666d6c",
   "metadata": {},
   "outputs": [],
   "source": [
    "if len(me_col_lasso)>8:\n",
    "    lasso = Lasso(alpha=model_lassoCV_me.alpha_, max_iter=100000)\n",
    "    selector = RFE(lasso, n_features_to_select=6, step=1)\n",
    "    selector = selector.fit(X, y)\n",
    "\n",
    "    selected_features = feature_names[selector.support_]\n",
    "    print(\"Selected features:\", selected_features)\n",
    "    selected_features = selected_features.tolist()\n",
    "    \n",
    "    if 'AD' not in selected_features:selected_features = ['AD']+selected_features\n",
    "    if 'label' not in selected_features:selected_features = ['label']+selected_features\n",
    "    me_RFE = me_lasso[selected_features]\n",
    "else:\n",
    "    me_RFE = me_lasso\n",
    "    "
   ]
  },
  {
   "cell_type": "code",
   "execution_count": null,
   "id": "7f24fbda",
   "metadata": {},
   "outputs": [],
   "source": [
    "ClRa = pd.merge(ra, cl, on='AD')\n",
    "if ClRa['label_x'].equals(ClRa['label_y']):\n",
    "    print('The two columns are identical.')\n",
    "    ClRa = ClRa.drop(columns=['label_y'])\n",
    "    ClRa = ClRa.rename(columns={'label_x': 'label'})\n",
    "else:\n",
    "    print('The two columns are different.')\n",
    "\n",
    "scaler = StandardScaler()\n",
    "\n",
    "cols_to_scale = ClRa.columns[2:]\n",
    "\n",
    "scaled_data = scaler.fit_transform(ClRa[cols_to_scale])\n",
    "\n",
    "ClRa_zscore = pd.concat([ClRa.iloc[:, :2], pd.DataFrame(scaled_data, columns=cols_to_scale)], axis=1)\n"
   ]
  },
  {
   "cell_type": "code",
   "execution_count": null,
   "id": "d85bd162",
   "metadata": {},
   "outputs": [],
   "source": [
    "X = ClRa_zscore[ClRa_zscore.columns[2:]]\n",
    "y = ClRa_zscore['label']\n",
    "feature_names =  X.columns\n",
    "\n",
    "# lasso for further feature selection\n",
    "alphas = np.logspace(-2,1,50)\n",
    "model_lassoCV_ClRa = LassoCV(alphas = alphas, cv = 10, max_iter = 100000).fit(X,y)\n",
    "coefs_ClRa = model_lassoCV_ClRa.path(X,y,alphas = alphas, max_iter = 100000)[1].T\n",
    "\n",
    "MSEs_ClRa = model_lassoCV_ClRa.mse_path_\n",
    "MSEs_mean_ClRa = np.apply_along_axis(np.mean,1,MSEs_ClRa)\n",
    "MSEs_std_ClRa = np.apply_along_axis(np.std,1,MSEs_ClRa)"
   ]
  },
  {
   "cell_type": "code",
   "execution_count": null,
   "id": "7e2b60b4",
   "metadata": {},
   "outputs": [],
   "source": [
    "print(model_lassoCV_ClRa.alpha_)\n",
    "coef = pd.Series(model_lassoCV_ClRa.coef_,index = X.columns)\n",
    "print('Lasso picked ' + str(sum(coef != 0))+ ' variables and eliminated the other ' + str(sum(coef == 0)))\n",
    "\n",
    "ClRa_col_lasso = coef[coef != 0].index\n",
    "ClRa_col_lasso = ClRa_col_lasso.tolist()\n",
    "\n",
    "if 'AD' not in ClRa_col_lasso:ClRa_col_lasso = ['AD']+ClRa_col_lasso\n",
    "if 'label' not in ClRa_col_lasso:ClRa_col_lasso = ['label']+ClRa_col_lasso\n",
    "    \n",
    "print(ClRa_col_lasso)\n",
    "ClRa_lasso = ClRa[ClRa_col_lasso]\n",
    "print(ClRa_lasso.shape)    "
   ]
  },
  {
   "cell_type": "code",
   "execution_count": null,
   "id": "76e0e89a",
   "metadata": {},
   "outputs": [],
   "source": [
    "if len(ClRa_col_lasso)>8:\n",
    "    lasso = Lasso(alpha=model_lassoCV_ClRa.alpha_, max_iter=100000)\n",
    "    selector = RFE(lasso, n_features_to_select=6, step=1)\n",
    "    selector = selector.fit(X, y)\n",
    "\n",
    "    selected_features = feature_names[selector.support_]\n",
    "    print(\"Selected features:\", selected_features)\n",
    "    selected_features = selected_features.tolist()\n",
    "    \n",
    "    if 'AD' not in selected_features:selected_features = ['AD']+selected_features\n",
    "    if 'label' not in selected_features:selected_features = ['label']+selected_features\n",
    "    ClRa_RFE = ClRa_lasso[selected_features]\n",
    "else:\n",
    "    ClRa_RFE = ClRa_lasso\n",
    "    "
   ]
  },
  {
   "cell_type": "code",
   "execution_count": null,
   "id": "c3c8c7bf",
   "metadata": {},
   "outputs": [],
   "source": [
    "ClMe = pd.merge(cl, me, on='AD')\n",
    "if ClMe['label_x'].equals(ClMe['label_y']):\n",
    "    print('The two columns are identical.')\n",
    "    ClMe = ClMe.drop(columns=['label_y'])\n",
    "    ClMe = ClMe.rename(columns={'label_x': 'label'})\n",
    "else:\n",
    "    print('The two columns are different.')\n",
    "\n",
    "scaler = StandardScaler()\n",
    "\n",
    "cols_to_scale = ClMe.columns[2:]\n",
    "\n",
    "scaled_data = scaler.fit_transform(ClMe[cols_to_scale])\n",
    "\n",
    "ClMe_zscore = pd.concat([ClMe.iloc[:, :2], pd.DataFrame(scaled_data, columns=cols_to_scale)], axis=1)"
   ]
  },
  {
   "cell_type": "code",
   "execution_count": null,
   "id": "08fb27b0",
   "metadata": {},
   "outputs": [],
   "source": [
    "X = ClMe_zscore[ClMe_zscore.columns[2:]]\n",
    "y = ClMe_zscore['label']\n",
    "feature_names = X.columns\n",
    "\n",
    "# lasso for further feature selection\n",
    "alphas = np.logspace(-3,1,50)\n",
    "model_lassoCV_ClMe = LassoCV(alphas = alphas, cv = 10, max_iter = 100000).fit(X,y)\n",
    "coefs_ClMe = model_lassoCV_ClMe.path(X,y,alphas = alphas, max_iter = 100000)[1].T\n",
    "\n",
    "MSEs_ClMe = model_lassoCV_ClMe.mse_path_\n",
    "MSEs_mean_ClMe = np.apply_along_axis(np.mean,1,MSEs_ClMe)\n",
    "MSEs_std_ClMe = np.apply_along_axis(np.std,1,MSEs_ClMe)"
   ]
  },
  {
   "cell_type": "code",
   "execution_count": null,
   "id": "0a82f90c",
   "metadata": {},
   "outputs": [],
   "source": [
    "print(model_lassoCV_ClMe.alpha_)\n",
    "coef = pd.Series(model_lassoCV_ClMe.coef_,index = X.columns)\n",
    "print('Lasso picked ' + str(sum(coef != 0))+ ' variables and eliminated the other ' + str(sum(coef == 0)))\n",
    "\n",
    "ClMe_col_lasso = coef[coef != 0].index\n",
    "ClMe_col_lasso = ClMe_col_lasso.tolist()\n",
    "\n",
    "if 'AD' not in ClMe_col_lasso:ClMe_col_lasso = ['AD']+ClMe_col_lasso\n",
    "if 'label' not in ClMe_col_lasso:ClMe_col_lasso = ['label']+ClMe_col_lasso\n",
    "    \n",
    "print(ClMe_col_lasso)\n",
    "ClMe_lasso = ClMe[ClMe_col_lasso]\n",
    "print(ClMe_lasso.shape)    \n"
   ]
  },
  {
   "cell_type": "code",
   "execution_count": null,
   "id": "cbed41f8",
   "metadata": {},
   "outputs": [],
   "source": [
    "if len(ClMe_col_lasso)>8:\n",
    "    lasso = Lasso(alpha=model_lassoCV_ClMe.alpha_, max_iter=100000)\n",
    "    selector = RFE(lasso, n_features_to_select=6, step=1)\n",
    "    selector = selector.fit(X, y)\n",
    "\n",
    "    selected_features = feature_names[selector.support_]\n",
    "    print(\"Selected features:\", selected_features)\n",
    "    selected_features = selected_features.tolist()\n",
    "    \n",
    "    if 'AD' not in selected_features:selected_features = ['AD']+selected_features\n",
    "    if 'label' not in selected_features:selected_features = ['label']+selected_features\n",
    "    ClMe_RFE = ClMe_lasso[selected_features]\n",
    "else:\n",
    "    ClMe_RFE = ClMe_lasso\n",
    "    \n",
    "ClMe_RFE.to_csv(out_dir+'train_clme_RFE.csv', index=False)"
   ]
  },
  {
   "cell_type": "code",
   "execution_count": null,
   "id": "c1eab9d5",
   "metadata": {},
   "outputs": [],
   "source": [
    "plt.rcParams['font.family'] = 'Times New Roman'\n",
    "fig, axs = plt.subplots(2, 4, figsize=(24, 9))\n",
    "\n",
    "axs[0, 0].errorbar(model_lassoCV_ClRa.alphas_, MSEs_mean_ClRa, yerr = MSEs_std_ClRa,fmt = 'o', ms = 3, mfc = 'r', \n",
    "                   mec = 'r', ecolor = 'lightblue',elinewidth = 2, capsize = 4, capthick = 1)\n",
    "axs[0, 0].set_xlabel('log(lambda)',fontsize=29)\n",
    "axs[0, 0].set_ylabel('MSE', fontsize=29)\n",
    "axs[0, 0].tick_params(axis='x', labelsize=17, width=2, length=4)\n",
    "axs[0, 0].tick_params(axis='y', labelsize=17, width=2, length=4)\n",
    "axs[0, 0].semilogx()\n",
    "axs[0, 0].axvline(model_lassoCV_ClRa.alpha_,color = 'black',ls = '--')\n",
    "axs[0, 0].set_title(\"ClRa\", fontsize=30)\n",
    "\n",
    "axs[0, 1].errorbar(model_lassoCV_ClMe.alphas_, MSEs_mean_ClMe, yerr = MSEs_std_ClMe,fmt = 'o', ms = 3, mfc = 'r', \n",
    "                   mec = 'r', ecolor = 'lightblue',elinewidth = 2, capsize = 4, capthick = 1)\n",
    "axs[0, 1].set_xlabel('log(lambda)',fontsize=29)\n",
    "axs[0, 1].set_ylabel('MSE', fontsize=29)\n",
    "axs[0, 1].tick_params(axis='x', labelsize=17, width=2, length=4)\n",
    "axs[0, 1].tick_params(axis='y', labelsize=17, width=2, length=4)\n",
    "axs[0, 1].semilogx()\n",
    "axs[0, 1].axvline(model_lassoCV_ClMe.alpha_,color = 'black',ls = '--')\n",
    "axs[0, 1].set_title(\"ClMe\", fontsize=30)\n",
    "\n",
    "axs[0, 2].errorbar(model_lassoCV_RaMe.alphas_, MSEs_mean_RaMe, yerr = MSEs_std_RaMe,fmt = 'o', ms = 3, mfc = 'r', \n",
    "                   mec = 'r', ecolor = 'lightblue',elinewidth = 2, capsize = 4, capthick = 1)\n",
    "axs[0, 2].set_xlabel('log(lambda)',fontsize=29)\n",
    "axs[0, 2].set_ylabel('MSE', fontsize=29)\n",
    "axs[0, 2].tick_params(axis='x', labelsize=17, width=2, length=4)\n",
    "axs[0, 2].tick_params(axis='y', labelsize=17, width=2, length=4)\n",
    "axs[0, 2].semilogx()\n",
    "axs[0, 2].axvline(model_lassoCV_RaMe.alpha_,color = 'black',ls = '--')\n",
    "axs[0, 2].set_title(\"RaMe\", fontsize=30)\n",
    "\n",
    "axs[0, 3].errorbar(model_lassoCV_ClRaMe.alphas_, MSEs_mean_ClRaMe, yerr = MSEs_std_ClRaMe,fmt = 'o', ms = 3, mfc = 'r', \n",
    "                   mec = 'r', ecolor = 'lightblue',elinewidth = 2, capsize = 4, capthick = 1)\n",
    "axs[0, 3].set_xlabel('log(lambda)',fontsize=29)\n",
    "axs[0, 3].set_ylabel('MSE', fontsize=29)\n",
    "axs[0, 3].tick_params(axis='x', labelsize=17, width=2, length=4)\n",
    "axs[0, 3].tick_params(axis='y', labelsize=17, width=2, length=4)\n",
    "axs[0, 3].semilogx()\n",
    "axs[0, 3].axvline(model_lassoCV_ClRaMe.alpha_,color = 'black',ls = '--')\n",
    "axs[0, 3].set_title(\"ClRaMe\", fontsize=30)\n",
    "\n",
    "axs[1, 0].set_xlabel('log(lambda)',fontsize=29)\n",
    "axs[1, 0].set_ylabel('Coefficient',fontsize=29)\n",
    "axs[1, 0].tick_params(axis='x', labelsize=17, width=2, length=4)\n",
    "axs[1, 0].tick_params(axis='y', labelsize=17, width=2, length=4)\n",
    "axs[1, 0].semilogx(model_lassoCV_ClRa.alphas_,coefs_ClRa,'-')\n",
    "axs[1, 0].axvline(model_lassoCV_ClRa.alpha_,color = 'black',ls = '--')\n",
    "axs[1, 0].set_title(\"ClRa\", fontsize=30)\n",
    "\n",
    "axs[1, 1].set_xlabel('log(lambda)',fontsize=29)\n",
    "axs[1, 1].set_ylabel('Coefficient',fontsize=29)\n",
    "axs[1, 1].tick_params(axis='x', labelsize=17, width=2, length=4)\n",
    "axs[1, 1].tick_params(axis='y', labelsize=17, width=2, length=4)\n",
    "axs[1, 1].semilogx(model_lassoCV_ClMe.alphas_,coefs_ClMe,'-')\n",
    "axs[1, 1].axvline(model_lassoCV_ClMe.alpha_,color = 'black',ls = '--')\n",
    "axs[1, 1].set_title(\"ClMe\", fontsize=30)\n",
    "\n",
    "axs[1, 2].set_xlabel('log(lambda)',fontsize=29)\n",
    "axs[1, 2].set_ylabel('Coefficient',fontsize=29)\n",
    "axs[1, 2].tick_params(axis='x', labelsize=17, width=2, length=4)\n",
    "axs[1, 2].tick_params(axis='y', labelsize=17, width=2, length=4)\n",
    "axs[1, 2].semilogx(model_lassoCV_RaMe.alphas_,coefs_RaMe,'-')\n",
    "axs[1, 2].axvline(model_lassoCV_RaMe.alpha_,color = 'black',ls = '--')\n",
    "axs[1, 2].set_title(\"RaMe\", fontsize=30)\n",
    "\n",
    "axs[1, 3].set_xlabel('log(lambda)',fontsize=29)\n",
    "axs[1, 3].set_ylabel('Coefficient',fontsize=29)\n",
    "axs[1, 3].tick_params(axis='x', labelsize=17, width=2, length=4)\n",
    "axs[1, 3].tick_params(axis='y', labelsize=17, width=2, length=4)\n",
    "axs[1, 3].semilogx(model_lassoCV_ClRaMe.alphas_,coefs_ClRaMe,'-')\n",
    "axs[1, 3].axvline(model_lassoCV_ClRaMe.alpha_,color = 'black',ls = '--')\n",
    "axs[1, 3].set_title(\"ClRaMe\", fontsize=30)\n",
    "\n",
    "axs[0, 0].annotate(\"a.\", (-0.22, 1.07), xycoords='axes fraction', fontsize=30, fontweight='bold', va='top')\n",
    "axs[0, 1].annotate(\"b.\", (-0.22, 1.07), xycoords='axes fraction', fontsize=30, fontweight='bold', va='top')\n",
    "axs[0, 2].annotate(\"c.\", (-0.22, 1.07), xycoords='axes fraction', fontsize=30, fontweight='bold', va='top')\n",
    "axs[0, 3].annotate(\"d.\", (-0.22, 1.07), xycoords='axes fraction', fontsize=30, fontweight='bold', va='top')\n",
    "axs[1, 0].annotate(\"e.\", (-0.22, 1.07), xycoords='axes fraction', fontsize=30, fontweight='bold', va='top')\n",
    "axs[1, 1].annotate(\"f.\", (-0.22, 1.07), xycoords='axes fraction', fontsize=30, fontweight='bold', va='top')\n",
    "axs[1, 2].annotate(\"g.\", (-0.22, 1.07), xycoords='axes fraction', fontsize=30, fontweight='bold', va='top')\n",
    "axs[1, 3].annotate(\"h.\", (-0.22, 1.07), xycoords='axes fraction', fontsize=30, fontweight='bold', va='top')\n",
    "\n",
    "fig.subplots_adjust(hspace=0.55, wspace=0.30, top=0.85, bottom=0.1, left=0.08, right=0.92)\n",
    "\n",
    "plt.savefig(out_dir+\"LASSO_combined.tiff\", dpi=300)\n",
    "\n",
    "plt.show()\n"
   ]
  },
  {
   "cell_type": "code",
   "execution_count": null,
   "id": "2f73b222",
   "metadata": {},
   "outputs": [],
   "source": []
  },
  {
   "cell_type": "code",
   "execution_count": null,
   "id": "aa1672f5",
   "metadata": {},
   "outputs": [],
   "source": []
  }
 ],
 "metadata": {
  "kernelspec": {
   "display_name": "Python 3 (ipykernel)",
   "language": "python",
   "name": "python3"
  },
  "language_info": {
   "codemirror_mode": {
    "name": "ipython",
    "version": 3
   },
   "file_extension": ".py",
   "mimetype": "text/x-python",
   "name": "python",
   "nbconvert_exporter": "python",
   "pygments_lexer": "ipython3",
   "version": "3.8.10"
  }
 },
 "nbformat": 4,
 "nbformat_minor": 5
}
