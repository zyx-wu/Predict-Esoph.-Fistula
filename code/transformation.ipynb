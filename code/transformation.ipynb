{
 "cells": [
  {
   "cell_type": "code",
   "execution_count": 1,
   "id": "6000fa87",
   "metadata": {},
   "outputs": [],
   "source": [
    "import os\n",
    "import numpy as np\n",
    "import nibabel as nib\n",
    "import SimpleITK as sitk\n",
    "from scipy import ndimage as ndi\n",
    "import pywt\n",
    "import six\n",
    "from six.moves import range"
   ]
  },
  {
   "cell_type": "markdown",
   "id": "d7fbf0f0",
   "metadata": {},
   "source": [
    "### LoG"
   ]
  },
  {
   "cell_type": "code",
   "execution_count": 2,
   "id": "a67d6c62",
   "metadata": {},
   "outputs": [],
   "source": [
    "def getLoGImage(inputImage, sigmaValues):\n",
    "   \n",
    "    result = {}\n",
    "    size = np.array(inputImage.shape)\n",
    "    spacing = np.array(inputImage.header.get_zooms())\n",
    "\n",
    "    if np.min(size) < 4:\n",
    "        print('Image too small to apply LoG filter.')s\n",
    "        return result\n",
    "\n",
    "    for sigma in sigmaValues:\n",
    "#         print(f\"Computing LoG with sigma {sigma}\")\n",
    "        if sigma > 0.0:\n",
    "            if np.all(size >= np.ceil(sigma / spacing) + 1):\n",
    "                img_data = inputImage.get_fdata()\n",
    "                smoothed_data = ndi.gaussian_filter(img_data, sigma)\n",
    "                laplacian_data = ndi.laplace(smoothed_data)\n",
    "                inputImageName = f\"log-sigma-{str(sigma).replace('.', '-')}mm-3D\"\n",
    "                im = nib.Nifti1Image(laplacian_data, affine=inputImage.affine, header=inputImage.header)\n",
    "                result[inputImageName] = im\n",
    "            else:\n",
    "                print(\"Sigma/spacing + 1 must be greater than the size of the inputImage.\")\n",
    "        else:\n",
    "            print(\"Sigma must be greater than 0.0.\")\n",
    "    return result"
   ]
  },
  {
   "cell_type": "markdown",
   "id": "5865ac0f",
   "metadata": {},
   "source": [
    "### Wavelet"
   ]
  },
  {
   "cell_type": "code",
   "execution_count": 5,
   "id": "fb6123e9",
   "metadata": {},
   "outputs": [],
   "source": [
    "def getWaveletImage(inputImage): \n",
    "    Nd = len(inputImage.shape)\n",
    "    axes = list(range(Nd - 1, -1, -1))\n",
    "    \n",
    "    approx, ret = _swt3(inputImage, tuple(axes))\n",
    "    \n",
    "    for idx, wl in enumerate(ret, start=1):\n",
    "        for decompositionName, decompositionImage in wl.items():\n",
    "            if idx == 1:\n",
    "                inputImageName = 'wavelet-%s' % (decompositionName)\n",
    "            else:\n",
    "                inputImageName = 'wavelet%s-%s' % (idx, decompositionName)\n",
    "            yield decompositionImage, inputImageName\n",
    "            \n",
    "    if len(ret) == 1:\n",
    "        inputImageName = 'wavelet-%s' % ('L' * len(axes))\n",
    "    else:\n",
    "        inputImageName = 'wavelet%s-%s' % (len(ret), ('L' * len(axes)))\n",
    "        \n",
    "    yield approx, inputImageName\n",
    "\n",
    "\n",
    "def _swt3(inputImage, axes):  # Stationary Wavelet Transform 3D\n",
    "    wavelet =  'coif1'\n",
    "    level = 1\n",
    "    start_level = 0\n",
    "\n",
    "    matrix = inputImage.get_fdata()  # This function gets a numpy array from the SimpleITK Image \"inputImage\"\n",
    "    matrix = np.asarray(matrix) # The function np.asarray converts \"matrix\" (which could be also a tuple) into an array.\n",
    "\n",
    "    original_shape = matrix.shape\n",
    "    padding = tuple([(0, 1 if dim % 2 != 0 else 0) for dim in original_shape])\n",
    "    data = matrix.copy()  \n",
    "    data = np.pad(data, padding, 'wrap') \n",
    "\n",
    "    if not isinstance(wavelet, pywt.Wavelet):\n",
    "        wavelet = pywt.Wavelet(wavelet)\n",
    "\n",
    "    for i in range(0, start_level): \n",
    "        dec = pywt.swtn(data, wavelet, level=1, start_level=0, axes=axes)[0]\n",
    "        # copies in \"data\" just the \"aaa\" decomposition (i.e. approximation; No of consecutive 'a's = len(axes))\n",
    "        data = dec['a' * len(axes)].copy()\n",
    "\n",
    "    ret = []  # initialize empty list\n",
    "    for i in range(start_level, start_level + level):\n",
    "        dec = pywt.swtn(data, wavelet, level=1, start_level=0, axes=axes)[0]\n",
    "        data = dec['a' * len(axes)].copy()\n",
    "        \n",
    "        dec_im = {}  # initialize empty dict\n",
    "        for decName, decImage in six.iteritems(dec):\n",
    "            if decName == 'a' * len(axes):\n",
    "                continue\n",
    "            decTemp = decImage.copy()\n",
    "            decTemp = decTemp[tuple(slice(None, -1 if dim % 2 != 0 else None) for dim in original_shape)]\n",
    "            dec_img = nib.Nifti1Image(decTemp, inputImage.affine)\n",
    "            dec_im[str(decName).replace('a', 'L').replace('d', 'H')] = dec_img\n",
    "    \n",
    "        ret.append(dec_im) \n",
    "\n",
    "    data = data[tuple(slice(None, -1 if dim % 2 != 0 else None) for dim in original_shape)]\n",
    "    approximation = nib.Nifti1Image(data, inputImage.affine)\n",
    "    return approximation, ret  "
   ]
  },
  {
   "cell_type": "markdown",
   "id": "8cd4ea6e",
   "metadata": {},
   "source": [
    "### squre"
   ]
  },
  {
   "cell_type": "code",
   "execution_count": 8,
   "id": "6cf702b9",
   "metadata": {},
   "outputs": [],
   "source": [
    "def getSquareImage(inputImage):\n",
    "\n",
    "    im = inputImage.get_fdata()\n",
    "    im = im.astype('float64')\n",
    "    coeff = 1 / np.sqrt(np.max(np.abs(im)))\n",
    "    im = (coeff * im) ** 2\n",
    "    im = nib.Nifti1Image(im, affine=inputImage.affine, header=inputImage.header)\n",
    "\n",
    "    yield im, 'square'"
   ]
  },
  {
   "cell_type": "markdown",
   "id": "02271851",
   "metadata": {},
   "source": [
    "### squreRoot"
   ]
  },
  {
   "cell_type": "code",
   "execution_count": 11,
   "id": "5261f027",
   "metadata": {},
   "outputs": [],
   "source": [
    "def getSquareRootImage(inputImage):\n",
    "    \n",
    "    im = inputImage.get_fdata()\n",
    "    im = im.astype('float64')\n",
    "    coeff = np.max(np.abs(im))\n",
    "    im[im > 0] = np.sqrt(im[im > 0] * coeff)\n",
    "    im[im < 0] = - np.sqrt(-im[im < 0] * coeff)\n",
    "    im = nib.Nifti1Image(im, affine=inputImage.affine, header=inputImage.header)\n",
    "\n",
    "    yield im, 'squareroot'"
   ]
  },
  {
   "cell_type": "markdown",
   "id": "6d9d15f7",
   "metadata": {},
   "source": [
    "### logarithm"
   ]
  },
  {
   "cell_type": "code",
   "execution_count": 14,
   "id": "ac1e9580",
   "metadata": {},
   "outputs": [],
   "source": [
    "def getLogarithmImage(inputImage):\n",
    "   \n",
    "    \n",
    "    im = inputImage.get_fdata()\n",
    "    im = im.astype('float64')\n",
    "    im_max = np.max(np.abs(im))\n",
    "    im[im > 0] = np.log(im[im > 0] + 1)\n",
    "    im[im < 0] = - np.log(- (im[im < 0] - 1))\n",
    "    im = im * (im_max / np.max(np.abs(im)))\n",
    "    im = nib.Nifti1Image(im, affine=inputImage.affine, header=inputImage.header)\n",
    "\n",
    "    yield im, 'logarithm'"
   ]
  },
  {
   "cell_type": "code",
   "execution_count": 15,
   "id": "0ded4bd5",
   "metadata": {},
   "outputs": [],
   "source": [
    "# logarithmImage = getLogarithmImage(nii_obj)"
   ]
  },
  {
   "cell_type": "code",
   "execution_count": 16,
   "id": "e4204066",
   "metadata": {},
   "outputs": [],
   "source": [
    "# # 处理图像并按需打印输出结果\n",
    "# for im, label in logarithmImage:\n",
    "#     print(f'Result type: {label}, dtype: {im.get_fdata().dtype}, shape: {im.get_fdata().shape}')\n",
    "#     print(f'Intensity range: [{np.min(im.get_fdata())}, {np.max(im.get_fdata())}]\\n')"
   ]
  },
  {
   "cell_type": "markdown",
   "id": "05947630",
   "metadata": {},
   "source": [
    "### exponential"
   ]
  },
  {
   "cell_type": "code",
   "execution_count": 17,
   "id": "9d7eed5d",
   "metadata": {},
   "outputs": [],
   "source": [
    "def getExponentialImage(inputImage):\n",
    "       \n",
    "    im = inputImage.get_fdata()\n",
    "    im = im.astype('float64')\n",
    "    im_max = np.max(np.abs(im))\n",
    "    coeff = np.log(im_max) / im_max\n",
    "    im = np.exp(coeff * im)\n",
    "    im = nib.Nifti1Image(im, affine=inputImage.affine, header=inputImage.header)\n",
    "\n",
    "    yield im, 'exponential'"
   ]
  },
  {
   "cell_type": "markdown",
   "id": "bdc2e1da",
   "metadata": {},
   "source": [
    "### gradient"
   ]
  },
  {
   "cell_type": "code",
   "execution_count": 20,
   "id": "e8375642",
   "metadata": {},
   "outputs": [],
   "source": [
    "def getGradientImage(inputImage):\n",
    "        \n",
    "    sitkImage = sitk.GetImageFromArray(inputImage.get_fdata())\n",
    "    sitkImage.CopyInformation(sitk.GetImageFromArray(np.zeros(inputImage.shape)))\n",
    "\n",
    "    gmif = sitk.GradientMagnitudeImageFilter()\n",
    "    gmif.SetUseImageSpacing(True)\n",
    "    im = gmif.Execute(sitkImage)\n",
    "\n",
    "    im = sitk.GetArrayFromImage(im)\n",
    "    im = nib.Nifti1Image(im, affine=inputImage.affine, header=inputImage.header)\n",
    "    \n",
    "    yield im, 'gradient'\n"
   ]
  },
  {
   "cell_type": "code",
   "execution_count": 23,
   "id": "cc10374f",
   "metadata": {},
   "outputs": [
    {
     "name": "stdout",
     "output_type": "stream",
     "text": [
      "Sigma/spacing + 1 must be greater than the size of the inputImage.\n"
     ]
    }
   ],
   "source": [
    "def apply_all_transforms(data_folder, output_folder):\n",
    "    if not os.path.exists(output_folder):\n",
    "        os.makedirs(output_folder)\n",
    "\n",
    "    for filename in os.listdir(data_folder):\n",
    "        if filename.endswith('.nii.gz'):\n",
    "            nii_obj = nib.load(os.path.join(data_folder, filename))\n",
    "\n",
    "            # LoG transform\n",
    "            sigmas = [1.0, 2.0, 3.0, 4.0, 5.0]\n",
    "            result_dict = getLoGImage(nii_obj, sigmas)\n",
    "            for key, data in result_dict.items():\n",
    "                LoG_filename = f\"{os.path.splitext(filename)[0][:10]}_{key}.nii.gz\"\n",
    "                save_nii_file(data, LoG_filename, output_folder)\n",
    "              \n",
    "            # Wavelet transform\n",
    "            waveletGenerator = getWaveletImage(nii_obj)\n",
    "            for image, name in waveletGenerator:\n",
    "                wavelet_filename = f\"{os.path.splitext(filename)[0][:10]}_{name}.nii.gz\"\n",
    "                save_nii_file(image, wavelet_filename, output_folder)\n",
    "              \n",
    "            # Square, Square Root, Logarithm, Exponential and Gradient transforms\n",
    "            squareImage = getSquareImage(nii_obj)\n",
    "            for im, label in squareImage:\n",
    "                square_filename = f\"{os.path.splitext(filename)[0][:10]}_{label}.nii.gz\"\n",
    "                save_nii_file(im, square_filename, output_folder)\n",
    "                \n",
    "            squareRootImage = getSquareRootImage(nii_obj)\n",
    "            for im, label in squareRootImage:\n",
    "                square_root_filename = f\"{os.path.splitext(filename)[0][:10]}_{label}.nii.gz\"\n",
    "                save_nii_file(im, square_root_filename, output_folder)\n",
    "            \n",
    "            logarithmImage = getLogarithmImage(nii_obj)\n",
    "            for im, label in logarithmImage:\n",
    "                logarithm_filename = f\"{os.path.splitext(filename)[0][:10]}_{label}.nii.gz\"\n",
    "                save_nii_file(im, logarithm_filename, output_folder)\n",
    "            \n",
    "            exponentialImage = getExponentialImage(nii_obj)\n",
    "            for im, label in exponentialImage:\n",
    "                exponential_filename = f\"{os.path.splitext(filename)[0][:10]}_{label}.nii.gz\"\n",
    "                save_nii_file(im, exponential_filename, output_folder)\n",
    "                \n",
    "            gradientImage = getGradientImage(nii_obj)\n",
    "            for im, label in gradientImage:\n",
    "                gradient_filename = f\"{os.path.splitext(filename)[0][:10]}_{label}.nii.gz\"\n",
    "                save_nii_file(im, gradient_filename, output_folder)\n",
    "\n",
    "def save_nii_file(data, filename, output_folder):\n",
    "    if not os.path.exists(output_folder):\n",
    "        os.makedirs(output_folder)\n",
    "    img = data\n",
    "    output_path = os.path.join(output_folder, filename)\n",
    "    nib.save(img, output_path)\n",
    "\n",
    "\n",
    "data_folders = ['./path/to/files']\n",
    "output_folders = ['./save_path/']\n",
    "\n",
    "for data_folder, output_folder in zip(data_folders, output_folders):\n",
    "    apply_all_transforms(data_folder, output_folder)\n"
   ]
  },
  {
   "cell_type": "code",
   "execution_count": null,
   "id": "22bb01df",
   "metadata": {},
   "outputs": [],
   "source": []
  }
 ],
 "metadata": {
  "kernelspec": {
   "display_name": "Python 3 (ipykernel)",
   "language": "python",
   "name": "python3"
  },
  "language_info": {
   "codemirror_mode": {
    "name": "ipython",
    "version": 3
   },
   "file_extension": ".py",
   "mimetype": "text/x-python",
   "name": "python",
   "nbconvert_exporter": "python",
   "pygments_lexer": "ipython3",
   "version": "3.8.10"
  }
 },
 "nbformat": 4,
 "nbformat_minor": 5
}
